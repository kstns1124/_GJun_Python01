{
 "cells": [
  {
   "cell_type": "code",
   "execution_count": 3,
   "metadata": {},
   "outputs": [
    {
     "name": "stdout",
     "output_type": "stream",
     "text": [
      "True False\n"
     ]
    }
   ],
   "source": [
    "# 流程控制\n",
    "_B01 = 5==5\n",
    "_B02 = 5!=5\n",
    "print(_B01, _B02)"
   ]
  },
  {
   "cell_type": "code",
   "execution_count": 15,
   "metadata": {},
   "outputs": [
    {
     "name": "stdout",
     "output_type": "stream",
     "text": [
      "請重新執行\n"
     ]
    }
   ],
   "source": [
    "Score = int(input(\"輸入學生分數(最高300分): \"))\n",
    "if(Score > 300 or Score < 0):\n",
    "    print(\"請重新執行\")\n",
    "else:\n",
    "    isAdd = input(\"是否符合加分條件?(Y/N)\")\n",
    "    if(isAdd.upper() == \"Y\"):\n",
    "        if(Score*1.05 > 300):\n",
    "            Score = 300\n",
    "        else: \n",
    "            Score *= 1.05\n",
    "\n",
    "    print(f\"總分:{Score}\")\n",
    "    print(\"總分:{:.0f}\".format(min(Score, 300)))\n",
    "    print(f\"總分:{round(Score)}\")"
   ]
  },
  {
   "cell_type": "code",
   "execution_count": 18,
   "metadata": {},
   "outputs": [
    {
     "name": "stdout",
     "output_type": "stream",
     "text": [
      "請重新輸入\n",
      "總分:299\n"
     ]
    }
   ],
   "source": [
    "while(True):\n",
    "    try:\n",
    "        Score = int(input(\"輸入學生分數(最高300分): \"))\n",
    "        if(Score > 300 or Score < 0):\n",
    "            print(\"請重新輸入\")\n",
    "            continue\n",
    "        break\n",
    "    except:\n",
    "        print(\"請重新輸入\")\n",
    "\n",
    "isAdd = input(\"是否符合加分條件?(Y/N)\")\n",
    "if(isAdd.upper() == \"Y\"):\n",
    "    Score = min(Score * 1.05, 300)\n",
    "\n",
    "print(\"總分:{:.0f}\".format(Score))"
   ]
  },
  {
   "cell_type": "code",
   "execution_count": 20,
   "metadata": {},
   "outputs": [
    {
     "name": "stdout",
     "output_type": "stream",
     "text": [
      "Bad\n"
     ]
    }
   ],
   "source": [
    "while(True):\n",
    "    try:\n",
    "        Score = int(input(\"輸入學生國文分數(最高100分): \"))\n",
    "        if(Score > 100 or Score < 0):    \n",
    "            print(\"請重新輸入\")\n",
    "            continue\n",
    "        elif(Score >= 80):\n",
    "            print(\"Nice\")\n",
    "        elif(Score >= 60):\n",
    "            print(\"OK\")\n",
    "        else:\n",
    "            print(\"Bad\")\n",
    "        break\n",
    "    except:\n",
    "        print(\"請重新輸入\")"
   ]
  }
 ],
 "metadata": {
  "kernelspec": {
   "display_name": "Python 3",
   "language": "python",
   "name": "python3"
  },
  "language_info": {
   "codemirror_mode": {
    "name": "ipython",
    "version": 3
   },
   "file_extension": ".py",
   "mimetype": "text/x-python",
   "name": "python",
   "nbconvert_exporter": "python",
   "pygments_lexer": "ipython3",
   "version": "3.10.12"
  },
  "orig_nbformat": 4
 },
 "nbformat": 4,
 "nbformat_minor": 2
}
