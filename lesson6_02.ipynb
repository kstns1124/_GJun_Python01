{
 "cells": [
  {
   "cell_type": "code",
   "execution_count": 64,
   "metadata": {},
   "outputs": [
    {
     "name": "stdout",
     "output_type": "stream",
     "text": [
      "0, 1, 2, 3, 4, \n",
      "2, 5, 8, \n",
      "0, 2, 4, 6, 8, \n",
      "1, 3, 5, 7, 9, "
     ]
    }
   ],
   "source": [
    "for x in range(0, 5, 1):\n",
    "    print(x, sep = \", \", end = \", \")\n",
    "print()\n",
    "for x in range(2, 10, 3):\n",
    "    print(x, sep = \", \", end = \", \")\n",
    "print()\n",
    "for x in range(0, 10, 2):\n",
    "    print(x, sep = \", \", end = \", \")\n",
    "print()\n",
    "for x in range(1, 10, 2):\n",
    "    print(x, sep = \", \", end = \", \")"
   ]
  },
  {
   "cell_type": "code",
   "execution_count": 9,
   "metadata": {},
   "outputs": [
    {
     "name": "stdout",
     "output_type": "stream",
     "text": [
      "5050 2550 2500\n"
     ]
    }
   ],
   "source": [
    "total_odd = 0\n",
    "total_even = 0\n",
    "for x in range(0, 101, 1):\n",
    "    if (x % 2) == 0:\n",
    "        total_even += x\n",
    "    else:\n",
    "        total_odd += x\n",
    "print((total_even + total_odd), total_even, total_odd)"
   ]
  },
  {
   "cell_type": "code",
   "execution_count": 8,
   "metadata": {},
   "outputs": [
    {
     "name": "stdout",
     "output_type": "stream",
     "text": [
      "2550\n",
      "2500\n"
     ]
    }
   ],
   "source": [
    "total = 0\n",
    "for x in range(0, 101, 2):\n",
    "    total += x\n",
    "print(total)\n",
    "\n",
    "total = 0\n",
    "for x in range(1, 101, 2):\n",
    "    total += x\n",
    "print(total)"
   ]
  },
  {
   "cell_type": "code",
   "execution_count": 34,
   "metadata": {},
   "outputs": [
    {
     "name": "stdout",
     "output_type": "stream",
     "text": [
      "0~100\n",
      " total: 5,050, even: 2,550, odd: 2,500\n"
     ]
    }
   ],
   "source": [
    "startVal = int(input(\"輸入Start Value: \"))\n",
    "endVal = int(input(\"輸入End Value:\"))\n",
    "\n",
    "if (startVal >= endVal):\n",
    "    startVal, endVal= endVal, startVal\n",
    "    \n",
    "total_odd = 0\n",
    "total_even = 0\n",
    "for x in range(startVal , endVal+1, 1):\n",
    "    if (x % 2) == 0:\n",
    "        total_even += x\n",
    "    else:\n",
    "        total_odd += x\n",
    "print(f\"{startVal}~{endVal}\\n total: {(total_even + total_odd):,}, even: {total_even:,}, odd: {total_odd:,}\")"
   ]
  },
  {
   "cell_type": "code",
   "execution_count": 53,
   "metadata": {},
   "outputs": [
    {
     "name": "stdout",
     "output_type": "stream",
     "text": [
      " 1*1 =1  , 1*2 =2  , 1*3 =3  , 1*4 =4  , 1*5 =5  , 1*6 =6  , 1*7 =7  , 1*8 =8  , 1*9 =9  ,\n",
      " 2*1 =2  , 2*2 =4  , 2*3 =6  , 2*4 =8  , 2*5 =10 , 2*6 =12 , 2*7 =14 , 2*8 =16 , 2*9 =18 ,\n",
      " 3*1 =3  , 3*2 =6  , 3*3 =9  , 3*4 =12 , 3*5 =15 , 3*6 =18 , 3*7 =21 , 3*8 =24 , 3*9 =27 ,\n",
      " 4*1 =4  , 4*2 =8  , 4*3 =12 , 4*4 =16 , 4*5 =20 , 4*6 =24 , 4*7 =28 , 4*8 =32 , 4*9 =36 ,\n",
      " 5*1 =5  , 5*2 =10 , 5*3 =15 , 5*4 =20 , 5*5 =25 , 5*6 =30 , 5*7 =35 , 5*8 =40 , 5*9 =45 ,\n",
      " 6*1 =6  , 6*2 =12 , 6*3 =18 , 6*4 =24 , 6*5 =30 , 6*6 =36 , 6*7 =42 , 6*8 =48 , 6*9 =54 ,\n",
      " 7*1 =7  , 7*2 =14 , 7*3 =21 , 7*4 =28 , 7*5 =35 , 7*6 =42 , 7*7 =49 , 7*8 =56 , 7*9 =63 ,\n",
      " 8*1 =8  , 8*2 =16 , 8*3 =24 , 8*4 =32 , 8*5 =40 , 8*6 =48 , 8*7 =56 , 8*8 =64 , 8*9 =72 ,\n",
      " 9*1 =9  , 9*2 =18 , 9*3 =27 , 9*4 =36 , 9*5 =45 , 9*6 =54 , 9*7 =63 , 9*8 =72 , 9*9 =81 ,\n"
     ]
    }
   ],
   "source": [
    "for x in range(1, 10, 1):\n",
    "    #print(f\"(x={x}): \", sep = \" \", end = \"\")\n",
    "    for y in range(1, 10, 1):\n",
    "        print(f\"{x:>2d}*{y:<2d}={x*y:<3d}\", end = \",\")\n",
    "    print(\"\", end = \"\\n\")"
   ]
  },
  {
   "cell_type": "code",
   "execution_count": 62,
   "metadata": {},
   "outputs": [
    {
     "name": "stdout",
     "output_type": "stream",
     "text": [
      "3\n",
      "3*8 = 24\n",
      "0,1,2,3,4,5,6,7,8,9,"
     ]
    }
   ],
   "source": [
    "a = eval('x+y',{'x':1,'y':2})\n",
    "print(a)       # 3\n",
    "print('3*8 = ', eval('3*8'), sep = \"\")\n",
    "exec('''\n",
    "for i in range(10):\n",
    "    print(i, end = \",\")\n",
    "''')"
   ]
  },
  {
   "cell_type": "code",
   "execution_count": 54,
   "metadata": {},
   "outputs": [
    {
     "name": "stdout",
     "output_type": "stream",
     "text": [
      "1-2-3, 4-5-6.\n",
      "1-2-3-4-5-6-7-8-9-10\n"
     ]
    }
   ],
   "source": [
    "print(1, 2, 3, sep = \"-\", end = \", \")\n",
    "print(4, 5, 6, sep = \"-\", end = \".\\n\")\n",
    "print(*range(1,11), sep = \"-\") "
   ]
  },
  {
   "cell_type": "code",
   "execution_count": 65,
   "metadata": {},
   "outputs": [
    {
     "name": "stdout",
     "output_type": "stream",
     "text": [
      "0-1-2-3-4-"
     ]
    }
   ],
   "source": [
    "for x in range(10):\n",
    "    if(x == 5):\n",
    "        break\n",
    "    print(x, end = \"-\")"
   ]
  }
 ],
 "metadata": {
  "kernelspec": {
   "display_name": "Python 3",
   "language": "python",
   "name": "python3"
  },
  "language_info": {
   "codemirror_mode": {
    "name": "ipython",
    "version": 3
   },
   "file_extension": ".py",
   "mimetype": "text/x-python",
   "name": "python",
   "nbconvert_exporter": "python",
   "pygments_lexer": "ipython3",
   "version": "3.10.12"
  },
  "orig_nbformat": 4
 },
 "nbformat": 4,
 "nbformat_minor": 2
}
