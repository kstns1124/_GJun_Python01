{
 "cells": [
  {
   "cell_type": "code",
   "execution_count": 11,
   "metadata": {},
   "outputs": [],
   "source": [
    "def math_express0(op, value1=0, value2=0):\n",
    "    x = eval(str(value1) + op + str(value2))\n",
    "\n",
    "    return x"
   ]
  },
  {
   "cell_type": "code",
   "execution_count": 12,
   "metadata": {},
   "outputs": [],
   "source": [
    "def math_express1(op, value1=0, value2=0):\n",
    "    if(op == \"+\"):\n",
    "        return value1 + value2\n",
    "    if(op == \"-\"):\n",
    "        return value1 - value2\n",
    "    if(op == \"*\"):\n",
    "        return value1 * value2\n",
    "    if(op == \"/\"):\n",
    "        return value1 / value2\n",
    "    if(op == \"%\"):\n",
    "        return value1 % value2\n",
    "    return 0"
   ]
  },
  {
   "cell_type": "code",
   "execution_count": 14,
   "metadata": {},
   "outputs": [
    {
     "name": "stdout",
     "output_type": "stream",
     "text": [
      "13\n",
      "13\n",
      "0\n",
      "-49\n",
      "-49\n",
      "30\n"
     ]
    }
   ],
   "source": [
    "print(math_express0(\"+\", 1, 12))\n",
    "print(math_express1(\"+\", 1, 12))\n",
    "print(math_express1(\"-\"))\n",
    "print(math_express1(\"*\", value2=49))\n",
    "print(math_express1(\"*\", value2=49))\n",
    "print(math_express1(\"*\", value1=79, value2=49))"
   ]
  },
  {
   "cell_type": "code",
   "execution_count": 15,
   "metadata": {},
   "outputs": [
    {
     "name": "stdout",
     "output_type": "stream",
     "text": [
      "1, 2, 3, 4, 5.\n"
     ]
    }
   ],
   "source": [
    "print(1,2,3,4,5, sep= \", \", end=\".\\n\")"
   ]
  },
  {
   "cell_type": "code",
   "execution_count": 16,
   "metadata": {},
   "outputs": [],
   "source": [
    "stu1 = [100, 85, 69, 79, 19]\n"
   ]
  },
  {
   "cell_type": "code",
   "execution_count": 17,
   "metadata": {},
   "outputs": [
    {
     "name": "stdout",
     "output_type": "stream",
     "text": [
      "100, 85, 69, 79, 19, \n"
     ]
    }
   ],
   "source": [
    "for score in stu1:\n",
    "    print(score, end = \", \")\n",
    "print()"
   ]
  },
  {
   "cell_type": "code",
   "execution_count": 18,
   "metadata": {},
   "outputs": [
    {
     "name": "stdout",
     "output_type": "stream",
     "text": [
      "[69, 79, 19]\n",
      "[100, 85]\n"
     ]
    }
   ],
   "source": [
    "print(stu1[-3:])\n",
    "print(stu1[:2])"
   ]
  }
 ],
 "metadata": {
  "kernelspec": {
   "display_name": "Python 3",
   "language": "python",
   "name": "python3"
  },
  "language_info": {
   "codemirror_mode": {
    "name": "ipython",
    "version": 3
   },
   "file_extension": ".py",
   "mimetype": "text/x-python",
   "name": "python",
   "nbconvert_exporter": "python",
   "pygments_lexer": "ipython3",
   "version": "3.10.12"
  },
  "orig_nbformat": 4
 },
 "nbformat": 4,
 "nbformat_minor": 2
}
