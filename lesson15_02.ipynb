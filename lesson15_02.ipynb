{
 "cells": [
  {
   "cell_type": "code",
   "execution_count": 1,
   "metadata": {},
   "outputs": [],
   "source": [
    "import random\n",
    "import numpy as np\n",
    "import matplotlib.pyplot as plt\n",
    "from matplotlib.font_manager import FontProperties.copy\n"
   ]
  },
  {
   "cell_type": "code",
   "execution_count": 4,
   "metadata": {},
   "outputs": [
    {
     "data": {
      "text/plain": [
       "[130,\n",
       " 140,\n",
       " 147,\n",
       " 151,\n",
       " 165,\n",
       " 163,\n",
       " 161,\n",
       " 184,\n",
       " 171,\n",
       " 155,\n",
       " 179,\n",
       " 158,\n",
       " 159,\n",
       " 138,\n",
       " 144,\n",
       " 163,\n",
       " 182,\n",
       " 165,\n",
       " 142,\n",
       " 171,\n",
       " 141,\n",
       " 138,\n",
       " 143,\n",
       " 176,\n",
       " 156,\n",
       " 153,\n",
       " 169,\n",
       " 160,\n",
       " 164,\n",
       " 153,\n",
       " 176,\n",
       " 154,\n",
       " 159,\n",
       " 177,\n",
       " 154,\n",
       " 171,\n",
       " 163,\n",
       " 152,\n",
       " 154,\n",
       " 158,\n",
       " 178,\n",
       " 171,\n",
       " 125,\n",
       " 186,\n",
       " 171,\n",
       " 135,\n",
       " 172,\n",
       " 164,\n",
       " 145,\n",
       " 164]"
      ]
     },
     "metadata": {},
     "output_type": "display_data"
    }
   ],
   "source": [
    "chinese = [random.randint(60, 100) for _ in range(50)]\n",
    "english = [random.randint(60, 100) for _ in range(50)]\n",
    "result = [(chinese[x]+english[x]) for x in range(50)]\n",
    "\n",
    "display(result )"
   ]
  },
  {
   "cell_type": "code",
   "execution_count": 5,
   "metadata": {},
   "outputs": [
    {
     "data": {
      "text/plain": [
       "array([169, 146, 127, 196, 193])"
      ]
     },
     "metadata": {},
     "output_type": "display_data"
    }
   ],
   "source": [
    "chinese = np.random.randint(low= 60, high=100, size=5)\n",
    "english = np.random.randint(low= 60, high=100, size=5)\n",
    "result = chinese + english\n",
    "display(result)"
   ]
  },
  {
   "cell_type": "code",
   "execution_count": 9,
   "metadata": {},
   "outputs": [
    {
     "name": "stdout",
     "output_type": "stream",
     "text": [
      "[[77 79 92 92 93]\n",
      " [97 97 80 62 68]\n",
      " [68 79 97 82 72]\n",
      " [70 77 96 80 69]\n",
      " [62 68 62 70 80]]\n"
     ]
    }
   ],
   "source": [
    "stu01 =  np.random.randint(low= 60, high=100, size=(5,5))\n",
    "print(stu01)"
   ]
  },
  {
   "cell_type": "code",
   "execution_count": 10,
   "metadata": {},
   "outputs": [
    {
     "name": "stdout",
     "output_type": "stream",
     "text": [
      "[374 400 427 386 382]\n",
      "[433 404 398 392 342]\n"
     ]
    }
   ],
   "source": [
    "\n",
    "print(np.sum(stu01, axis=0))\n",
    "print(np.sum(stu01, axis=1))"
   ]
  }
 ],
 "metadata": {
  "kernelspec": {
   "display_name": "Python 3",
   "language": "python",
   "name": "python3"
  },
  "language_info": {
   "codemirror_mode": {
    "name": "ipython",
    "version": 3
   },
   "file_extension": ".py",
   "mimetype": "text/x-python",
   "name": "python",
   "nbconvert_exporter": "python",
   "pygments_lexer": "ipython3",
   "version": "3.10.12"
  },
  "orig_nbformat": 4
 },
 "nbformat": 4,
 "nbformat_minor": 2
}
