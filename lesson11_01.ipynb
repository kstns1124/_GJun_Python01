{
 "cells": [
  {
   "cell_type": "code",
   "execution_count": 3,
   "metadata": {},
   "outputs": [
    {
     "name": "stdout",
     "output_type": "stream",
     "text": [
      "['G怡君', 'G偉倫', 'G偉翔', 'G信宏', 'G心怡']\n"
     ]
    }
   ],
   "source": [
    "import random\n",
    "\n",
    "Namefile  = open(\"names.txt\", mode = \"r\", encoding = \"utf-8\")\n",
    "names:list[str] = []\n",
    "for line in Namefile:\n",
    "    names.append(line.rstrip(\"\\n\"))\n",
    "Namefile.close()\n",
    "\n",
    "def Name_generator(FName:str = \"\", num:int = 1):\n",
    "    resultList = []\n",
    "    for i in range(num):\n",
    "        LName = random.choice(names)[1:]\n",
    "        resultList.append(FName + LName)\n",
    "    return resultList\n",
    "\n",
    "print(Name_generator(FName=\"G\", num=5))"
   ]
  },
  {
   "cell_type": "code",
   "execution_count": 2,
   "metadata": {},
   "outputs": [
    {
     "name": "stdout",
     "output_type": "stream",
     "text": [
      "[56, 85, 89, 66, 33]\n",
      "[88, 85, 80, 65, 88]\n",
      "[66, 95, 79, 46, 39]\n"
     ]
    }
   ],
   "source": [
    "score1 = [56, 85, 89, 66, 33]\n",
    "score2 = [88, 85, 80, 65, 88]\n",
    "score3 = [66, 95, 79, 46, 39]\n",
    "studentScore = [score1, score2, score3]\n",
    "for x in studentScore:\n",
    "    print(x)"
   ]
  },
  {
   "cell_type": "code",
   "execution_count": 3,
   "metadata": {},
   "outputs": [
    {
     "name": "stdout",
     "output_type": "stream",
     "text": [
      "[59, 42, 23, 67, 84]\n"
     ]
    }
   ],
   "source": [
    "import random\n",
    "\n",
    "scores1 = []\n",
    "for i in range(0, 5):\n",
    "    scores1.append(random.randint(0, 100));\n",
    "print(scores1)"
   ]
  },
  {
   "cell_type": "code",
   "execution_count": 4,
   "metadata": {},
   "outputs": [
    {
     "name": "stdout",
     "output_type": "stream",
     "text": [
      "[41, 34, 77, 63, 22]\n"
     ]
    }
   ],
   "source": [
    "scores2 = [random.randint(0, 100) for i in range(0, 5)]\n",
    "print(scores2)"
   ]
  },
  {
   "cell_type": "code",
   "execution_count": 4,
   "metadata": {},
   "outputs": [
    {
     "name": "stdout",
     "output_type": "stream",
     "text": [
      "[[68, 6, 44, 80, 39], [53, 53, 52, 97, 32]]\n"
     ]
    }
   ],
   "source": [
    "num = 2\n",
    "StudentScore:list[list] = []\n",
    "for i in range(0, num):\n",
    "    StudentScore.append([random.randint(0, 100) for _ in range(0, 5)]);\n",
    "print(StudentScore)"
   ]
  },
  {
   "cell_type": "code",
   "execution_count": 7,
   "metadata": {},
   "outputs": [
    {
     "name": "stdout",
     "output_type": "stream",
     "text": [
      "['陳怡伶', '馮芳如', '蒙淑惠'] 299\n"
     ]
    }
   ],
   "source": [
    "names: list[list] = []\n",
    "with open(\"names.txt\", mode = \"r\", encoding=\"utf-8\") as Namefile:    \n",
    "    for line in Namefile:\n",
    "        names.append(line.rstrip(\"\\n\"))\n",
    "print(names[:3], len(names))"
   ]
  },
  {
   "cell_type": "code",
   "execution_count": 5,
   "metadata": {},
   "outputs": [],
   "source": [
    "def getAllNames(fileName:str=\"names.txt\")->list:\n",
    "    names: list[str] = []\n",
    "    with open(\"names.txt\", mode = \"r\", encoding=\"utf-8\") as Namefile:    \n",
    "        for line in Namefile:\n",
    "            names.append(line.rstrip(\"\\n\"))\n",
    "    return names"
   ]
  },
  {
   "cell_type": "code",
   "execution_count": 7,
   "metadata": {},
   "outputs": [],
   "source": [
    "def getRandName(num:int = 1)->list:\n",
    "    names = getAllNames()\n",
    "    #choices = [random.choice(names) for _ in range(num)]\n",
    "    choices = random.choices(names, k = num )\n",
    "    return choices"
   ]
  },
  {
   "cell_type": "code",
   "execution_count": 18,
   "metadata": {},
   "outputs": [],
   "source": [
    "#getAllNames()"
   ]
  },
  {
   "cell_type": "code",
   "execution_count": 8,
   "metadata": {},
   "outputs": [
    {
     "data": {
      "text/plain": [
       "['鄭佳玲', '黃詩妃', '陳向愛', '吳昕婷', '錢佩豪', '陳逸凡', '許芳如', '黃佩芬', '劉耿琦']"
      ]
     },
     "execution_count": 8,
     "metadata": {},
     "output_type": "execute_result"
    }
   ],
   "source": [
    "getRandName(9)"
   ]
  },
  {
   "cell_type": "code",
   "execution_count": 21,
   "metadata": {},
   "outputs": [],
   "source": [
    "def get_students(num:int = 1)->list:\n",
    "    names = getAllNames()\n",
    "    StudentScore:list[list] = []\n",
    "    for i in range(0, num):\n",
    "        StudentScore.append([names[i]] + [random.randint(0, 100) for _ in range(0, 5)]);\n",
    "    return StudentScore\n"
   ]
  },
  {
   "cell_type": "code",
   "execution_count": 22,
   "metadata": {},
   "outputs": [
    {
     "data": {
      "text/plain": [
       "[['陳怡伶', 46, 100, 73, 41, 28],\n",
       " ['馮芳如', 7, 59, 55, 32, 78],\n",
       " ['蒙淑惠', 87, 11, 10, 93, 63]]"
      ]
     },
     "execution_count": 22,
     "metadata": {},
     "output_type": "execute_result"
    }
   ],
   "source": [
    "get_students(3)"
   ]
  },
  {
   "cell_type": "code",
   "execution_count": 6,
   "metadata": {},
   "outputs": [
    {
     "name": "stdout",
     "output_type": "stream",
     "text": [
      "/workspaces/_GJun_Python01\n"
     ]
    },
    {
     "data": {
      "text/plain": [
       "'/workspaces/_GJun_Python01/csv_data/123.csv'"
      ]
     },
     "execution_count": 6,
     "metadata": {},
     "output_type": "execute_result"
    }
   ],
   "source": [
    "import os\n",
    "\n",
    "rootPath = os.path.abspath(path=\"./\")\n",
    "print(rootPath)\n",
    "fileName = input(\"輸入File Name:\")\n",
    "os.path.join(rootPath, 'csv_data', f'{fileName}.csv')\n"
   ]
  },
  {
   "cell_type": "code",
   "execution_count": null,
   "metadata": {},
   "outputs": [],
   "source": [
    "import os\n",
    "import student\n",
    "\n",
    "student.get_students(num = 3)"
   ]
  }
 ],
 "metadata": {
  "kernelspec": {
   "display_name": "Python 3",
   "language": "python",
   "name": "python3"
  },
  "language_info": {
   "codemirror_mode": {
    "name": "ipython",
    "version": 3
   },
   "file_extension": ".py",
   "mimetype": "text/x-python",
   "name": "python",
   "nbconvert_exporter": "python",
   "pygments_lexer": "ipython3",
   "version": "3.11.3"
  },
  "orig_nbformat": 4
 },
 "nbformat": 4,
 "nbformat_minor": 2
}
