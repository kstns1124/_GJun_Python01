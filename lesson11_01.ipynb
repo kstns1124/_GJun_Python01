{
 "cells": [
  {
   "cell_type": "code",
   "execution_count": null,
   "metadata": {},
   "outputs": [],
   "source": [
    "import random\n",
    "\n",
    "Namefile  = open(\"names.txt\", mode = \"r\", encoding = \"utf-8\")\n",
    "names:list[str] = []\n",
    "for line in Namefile:\n",
    "    names.append(line.rstrip(\"\\n\"))\n",
    "Namefile.close()\n",
    "\n",
    "def Name_generator(FName:str = \"\", num:int = 1):\n",
    "    resultList = []\n",
    "    for i in range(num):\n",
    "        LName = random.choice(names)[1:]\n",
    "        resultList.append(FName + LName)\n",
    "    return resultList\n",
    "\n",
    "print(Name_generator(\"G\", 5))"
   ]
  },
  {
   "cell_type": "code",
   "execution_count": 2,
   "metadata": {},
   "outputs": [
    {
     "name": "stdout",
     "output_type": "stream",
     "text": [
      "[56, 85, 89, 66, 33]\n",
      "[88, 85, 80, 65, 88]\n",
      "[66, 95, 79, 46, 39]\n"
     ]
    }
   ],
   "source": [
    "score1 = [56, 85, 89, 66, 33]\n",
    "score2 = [88, 85, 80, 65, 88]\n",
    "score3 = [66, 95, 79, 46, 39]\n",
    "studentScore = [score1, score2, score3]\n",
    "for x in studentScore:\n",
    "    print(x)"
   ]
  }
 ],
 "metadata": {
  "kernelspec": {
   "display_name": "Python 3",
   "language": "python",
   "name": "python3"
  },
  "language_info": {
   "codemirror_mode": {
    "name": "ipython",
    "version": 3
   },
   "file_extension": ".py",
   "mimetype": "text/x-python",
   "name": "python",
   "nbconvert_exporter": "python",
   "pygments_lexer": "ipython3",
   "version": "3.10.12"
  },
  "orig_nbformat": 4
 },
 "nbformat": 4,
 "nbformat_minor": 2
}
