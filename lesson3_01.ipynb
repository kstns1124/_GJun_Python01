{
 "cells": [
  {
   "cell_type": "code",
   "execution_count": 1,
   "metadata": {},
   "outputs": [
    {
     "name": "stdout",
     "output_type": "stream",
     "text": [
      "hello python\n"
     ]
    }
   ],
   "source": [
    "print('hello python')"
   ]
  },
  {
   "cell_type": "code",
   "execution_count": 1,
   "metadata": {},
   "outputs": [
    {
     "data": {
      "text/plain": [
       "30"
      ]
     },
     "execution_count": 1,
     "metadata": {},
     "output_type": "execute_result"
    }
   ],
   "source": [
    "a = 10\n",
    "b = 20\n",
    "a+b"
   ]
  },
  {
   "cell_type": "code",
   "execution_count": 9,
   "metadata": {},
   "outputs": [
    {
     "name": "stdout",
     "output_type": "stream",
     "text": [
      "梯形面積:24.0cm^2\n"
     ]
    }
   ],
   "source": [
    "#讓使用者輸入，計算梯形面積\n",
    "while(True):\n",
    "    try:\n",
    "        top = eval(input(\"請輸入梯形上底: \"))\n",
    "        break\n",
    "    except:\n",
    "        print(\"請輸入數字!\")\n",
    "while(True):\n",
    "    try:\n",
    "        bottom = eval(input(\"請輸入梯形下底: \"))\n",
    "        break\n",
    "    except:\n",
    "        print(\"請輸入數字!\")\n",
    "\n",
    "while(True):\n",
    "    try:\n",
    "        height = eval(input(\"請輸入梯形高: \")) \n",
    "        break\n",
    "    except:\n",
    "        print(\"請輸入數字!\")\n",
    "\n",
    "area = (top + bottom) * height / 2\n",
    "print(\"梯形面積:\", area, \"cm^2\")"
   ]
  },
  {
   "cell_type": "code",
   "execution_count": 11,
   "metadata": {},
   "outputs": [
    {
     "name": "stdout",
     "output_type": "stream",
     "text": [
      "梯形面積:24.0cm^2\n",
      "梯形上底:3cm; 梯形下底:5cm; 梯形高:6cm\n"
     ]
    }
   ],
   "source": [
    "# 字串插補\n",
    "funcArea = \"(top + bottom) * height / 2\"\n",
    "print(f\"梯形面積:{eval(funcArea)}cm^2\")\n",
    "print(f\"梯形上底:{top}cm; 梯形下底:{bottom}cm; 梯形高:{height}cm\")"
   ]
  }
 ],
 "metadata": {
  "kernelspec": {
   "display_name": "Python 3",
   "language": "python",
   "name": "python3"
  },
  "language_info": {
   "codemirror_mode": {
    "name": "ipython",
    "version": 3
   },
   "file_extension": ".py",
   "mimetype": "text/x-python",
   "name": "python",
   "nbconvert_exporter": "python",
   "pygments_lexer": "ipython3",
   "version": "3.10.12"
  },
  "orig_nbformat": 4
 },
 "nbformat": 4,
 "nbformat_minor": 2
}
