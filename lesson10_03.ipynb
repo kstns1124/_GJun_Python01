{
 "cells": [
  {
   "cell_type": "code",
   "execution_count": 2,
   "metadata": {},
   "outputs": [
    {
     "name": "stdout",
     "output_type": "stream",
     "text": [
      "['c', 'a', 't']\n",
      "[0, 1, 2, 3, 4]\n"
     ]
    }
   ],
   "source": [
    "emptylist0 = []\n",
    "emptylist1 = list()\n",
    "weekdays = ['星期一', '星期二', '星期三', '星期四', '星期五', '星期六', '星期日']\n",
    "print(list(\"cat\"))\n",
    "print(list(range(5)))\n"
   ]
  },
  {
   "cell_type": "code",
   "execution_count": 26,
   "metadata": {},
   "outputs": [
    {
     "name": "stdout",
     "output_type": "stream",
     "text": [
      "3 : ['台北', '台中', '台南']\n",
      "4 : ['台北', '基隆', '台中', '台南']\n"
     ]
    }
   ],
   "source": [
    "city = []\n",
    "city.append(\"台北\")\n",
    "city.extend([\"台中\", \"台南\"])\n",
    "print(len(city), \":\", city)\n",
    "city.insert(1, \"基隆\")\n",
    "print(len(city), \":\", city)"
   ]
  },
  {
   "cell_type": "code",
   "execution_count": 14,
   "metadata": {},
   "outputs": [
    {
     "name": "stdout",
     "output_type": "stream",
     "text": [
      "NewYork Not in List\n"
     ]
    }
   ],
   "source": [
    "try:\n",
    "    print(city.index(\"NewYork\"))\n",
    "except ValueError:\n",
    "    print(\"NewYork Not in List\")"
   ]
  },
  {
   "cell_type": "code",
   "execution_count": 13,
   "metadata": {},
   "outputs": [
    {
     "name": "stdout",
     "output_type": "stream",
     "text": [
      "IndexError\n"
     ]
    }
   ],
   "source": [
    "try:\n",
    "    print(city[100])\n",
    "except ValueError:\n",
    "    print(\"ValueError\")\n",
    "except IndexError:\n",
    "    print(\"IndexError\")"
   ]
  },
  {
   "cell_type": "code",
   "execution_count": 19,
   "metadata": {},
   "outputs": [
    {
     "name": "stdout",
     "output_type": "stream",
     "text": [
      "Done\n"
     ]
    }
   ],
   "source": [
    "try:\n",
    "    city.remove(\"台北\")\n",
    "except ValueError:\n",
    "    print(\"error: not exist\")\n",
    "else:\n",
    "    print(\"Done\")\n"
   ]
  },
  {
   "cell_type": "code",
   "execution_count": 25,
   "metadata": {},
   "outputs": [
    {
     "name": "stdout",
     "output_type": "stream",
     "text": [
      "error: not exist\n"
     ]
    }
   ],
   "source": [
    "try:\n",
    "    sPop = city.pop(2)\n",
    "except IndexError:\n",
    "    print(\"error: not exist\")\n",
    "else:\n",
    "    print(\"Done:\",  sPop, city)"
   ]
  },
  {
   "cell_type": "code",
   "execution_count": 27,
   "metadata": {},
   "outputs": [
    {
     "name": "stdout",
     "output_type": "stream",
     "text": [
      "[]\n"
     ]
    }
   ],
   "source": [
    "city.clear()\n",
    "print(city)"
   ]
  }
 ],
 "metadata": {
  "kernelspec": {
   "display_name": "Python 3",
   "language": "python",
   "name": "python3"
  },
  "language_info": {
   "codemirror_mode": {
    "name": "ipython",
    "version": 3
   },
   "file_extension": ".py",
   "mimetype": "text/x-python",
   "name": "python",
   "nbconvert_exporter": "python",
   "pygments_lexer": "ipython3",
   "version": "3.10.12"
  },
  "orig_nbformat": 4
 },
 "nbformat": 4,
 "nbformat_minor": 2
}
