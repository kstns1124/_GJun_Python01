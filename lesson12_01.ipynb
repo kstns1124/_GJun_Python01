{
 "cells": [
  {
   "cell_type": "code",
   "execution_count": 1,
   "metadata": {},
   "outputs": [
    {
     "name": "stdout",
     "output_type": "stream",
     "text": [
      "d:\\Users\\ASUS\\Documents\\GitHub\\_GJun_Python01\n",
      "d:\\Users\\ASUS\\Documents\\GitHub\\_GJun_Python01\\csv_data\\C02.csv\n",
      "[['陳怡伶', 58, 56, 19, 12, 91], ['馮芳如', 38, 18, 82, 9, 1], ['蒙淑惠', 52, 2, 45, 14, 59]]\n"
     ]
    }
   ],
   "source": [
    "import os\n",
    "import student\n",
    "\n",
    "rootPath = os.path.abspath(path=\"./\")\n",
    "print(rootPath)\n",
    "fileName = input(\"輸入File Name:\")\n",
    "print(os.path.join(rootPath, 'csv_data', f'{fileName}.csv'))\n",
    "\n",
    "students = student.get_students(num = 3)\n",
    "print(students)"
   ]
  },
  {
   "cell_type": "code",
   "execution_count": 8,
   "metadata": {},
   "outputs": [
    {
     "name": "stdout",
     "output_type": "stream",
     "text": [
      "C02.csv Saved\n"
     ]
    }
   ],
   "source": [
    "import csv\n",
    "\n",
    "YN = input(\"Save File?(Y/N)\")\n",
    "if (YN == \"Y\"):\n",
    "    fileName = input(\"輸入File Name:\")\n",
    "    students = student.get_students(num = 4)\n",
    "    absPath = os.path.join(rootPath, 'csv_data', f'{fileName}.csv')\n",
    "\n",
    "    with open(absPath, \"w\", encoding='utf-8', newline = '') as WriteFile:\n",
    "        writer = csv.writer(WriteFile)\n",
    "        writer.writerow(['Name', 'chinese', 'English', 'Math', 'Society', \"Nature\"])\n",
    "        writer.writerows(students)\n",
    "\n",
    "    print(f'{fileName}.csv Saved')\n",
    "else:\n",
    "    print(\"End\")"
   ]
  },
  {
   "cell_type": "code",
   "execution_count": 6,
   "metadata": {},
   "outputs": [
    {
     "name": "stdout",
     "output_type": "stream",
     "text": [
      "Name,chinese,English,Math,Society,Nature\n",
      "陳怡伶,29,88,60,13,23\n",
      "馮芳如,53,100,28,96,27\n",
      "蒙淑惠,18,9,99,91,4\n"
     ]
    }
   ],
   "source": [
    "import csv\n",
    "with open('csv_data/C02.csv', newline='') as csvfile:\n",
    "    spamreader = csv.reader(csvfile, delimiter=' ', quotechar='|')\n",
    "    for row in spamreader:\n",
    "        print(', '.join(row))"
   ]
  }
 ],
 "metadata": {
  "kernelspec": {
   "display_name": "Python 3",
   "language": "python",
   "name": "python3"
  },
  "language_info": {
   "codemirror_mode": {
    "name": "ipython",
    "version": 3
   },
   "file_extension": ".py",
   "mimetype": "text/x-python",
   "name": "python",
   "nbconvert_exporter": "python",
   "pygments_lexer": "ipython3",
   "version": "3.11.3"
  },
  "orig_nbformat": 4
 },
 "nbformat": 4,
 "nbformat_minor": 2
}
