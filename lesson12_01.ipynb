{
 "cells": [
  {
   "cell_type": "code",
   "execution_count": 2,
   "metadata": {},
   "outputs": [
    {
     "name": "stdout",
     "output_type": "stream",
     "text": [
      "/workspaces/_GJun_Python01\n",
      "/workspaces/_GJun_Python01/csv_data/C2.csv\n",
      "[['陳怡伶', 65, 20, 14, 53, 56], ['馮芳如', 79, 10, 89, 80, 51], ['蒙淑惠', 45, 12, 12, 2, 26]]\n"
     ]
    }
   ],
   "source": [
    "import os\n",
    "import student\n",
    "\n",
    "rootPath = os.path.abspath(path=\"./\")\n",
    "print(rootPath)\n",
    "fileName = input(\"輸入File Name:\")\n",
    "print(os.path.join(rootPath, 'csv_data', f'{fileName}.csv'))\n",
    "\n",
    "students = student.get_students(num = 3)\n",
    "print(students)"
   ]
  },
  {
   "cell_type": "code",
   "execution_count": null,
   "metadata": {},
   "outputs": [],
   "source": [
    "import csv\n",
    "\n",
    "fileName = input(\"輸入File Name:\")\n",
    "students = student.get_students(num = 3)\n",
    "absPath = os.path.join(rootPath, 'csv_data', f'{fileName}.csv')\n",
    "\n",
    "with open(absPath, \"w\", encoding='utf-8', newline = '') as WriteFile:\n",
    "    writer = csv.writer(WriteFile)\n",
    "    #for row in students:\n",
    "    #    writer.writerow(row)\n",
    "    writer.writerows(students)\n",
    "\n"
   ]
  }
 ],
 "metadata": {
  "kernelspec": {
   "display_name": "Python 3",
   "language": "python",
   "name": "python3"
  },
  "language_info": {
   "codemirror_mode": {
    "name": "ipython",
    "version": 3
   },
   "file_extension": ".py",
   "mimetype": "text/x-python",
   "name": "python",
   "nbconvert_exporter": "python",
   "pygments_lexer": "ipython3",
   "version": "3.10.12"
  },
  "orig_nbformat": 4
 },
 "nbformat": 4,
 "nbformat_minor": 2
}
