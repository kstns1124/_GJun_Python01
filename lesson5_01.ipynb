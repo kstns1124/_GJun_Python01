{
 "cells": [
  {
   "cell_type": "code",
   "execution_count": 1,
   "metadata": {},
   "outputs": [
    {
     "name": "stdout",
     "output_type": "stream",
     "text": [
      "Error\n"
     ]
    }
   ],
   "source": [
    "try:\n",
    "    score = int(input(\"輸入分數\\\n",
    "                      (最高300:)\"))\n",
    "    print(f\"分數 {score}\")\n",
    "except:\n",
    "    print(\"Error\")"
   ]
  },
  {
   "cell_type": "code",
   "execution_count": 10,
   "metadata": {},
   "outputs": [
    {
     "name": "stdout",
     "output_type": "stream",
     "text": [
      "Layer4\n",
      "Layer3\n",
      "Layer2\n",
      "Layer1\n",
      "分數: 0, 評級: 丁\n"
     ]
    }
   ],
   "source": [
    "#下列為換算成績等級的程式碼，換算的規則如下：\n",
    "\n",
    "# 90(含)~100分為「優」\n",
    "# 80(含)~89分為「甲」\n",
    "# 70(含)~79分為「乙」\n",
    "# 60(含)~69分為「丙」\n",
    "# 0(含)~59分為「丁」\n",
    "def getGrade(Score01 = 0):\n",
    "    list01 = [\"優\", \"甲\", \"乙\", \"丙\", \"丁\", \"Error\"]\n",
    "    i = -1\n",
    "    if(100>= Score01 >= 90):\n",
    "        i=0\n",
    "    elif (90> Score01 >= 80):\n",
    "        i = 1\n",
    "    elif (80 > Score01 >= 70):\n",
    "        i = 2\n",
    "    elif (70 > Score01 >=60):\n",
    "        i=3\n",
    "    elif (60 > Score01 >=0):\n",
    "        i=4\n",
    "    return (list01[i])\n",
    "\n",
    "try:\n",
    "    score = int(input(\"輸入分數 (最高100:)\"))\n",
    "    #print(f\"分數: {score}, 評級: {getGrade(Score01=score)}\")\n",
    "    \n",
    "    i = -1\n",
    "    list01 = [\"優\", \"甲\", \"乙\", \"丙\", \"丁\"]\n",
    "    if(100>= score >= 90):\n",
    "        i=0\n",
    "    else:\n",
    "        if(90> score >= 80):\n",
    "            i = 1\n",
    "        else:\n",
    "            if(80 >score >= 70):\n",
    "                i = 2\n",
    "            else:\n",
    "                if(70 >score >=60):\n",
    "                    i=3\n",
    "                else:\n",
    "                    if(60 > score >=0):\n",
    "                        i=4\n",
    "                    else:\n",
    "                        print(\"Error\")\n",
    "                        pass\n",
    "                    print(\"Layer4\")\n",
    "                print(\"Layer3\")\n",
    "            print(\"Layer2\")\n",
    "        print(\"Layer1\")\n",
    "        \n",
    "    if(i >= 0):\n",
    "        print(f\"分數: {score}, 評級: {list01[i]}\")\n",
    "except:\n",
    "    print(\"Error\")"
   ]
  },
  {
   "cell_type": "code",
   "execution_count": 17,
   "metadata": {},
   "outputs": [
    {
     "name": "stdout",
     "output_type": "stream",
     "text": [
      "{'brand': 'Ford', 'model': 'Mustang', 'year': 1964}\n",
      "dict_keys(['brand', 'model', 'year'])\n",
      "dict_values(['Ford', 'Mustang', 1964])\n"
     ]
    }
   ],
   "source": [
    "thisdict = { \n",
    "  \"brand\": \"Ford\", \n",
    "  \"model\": \"Mustang\", \n",
    "  \"year\": 1964 \n",
    "} \n",
    "\n",
    "print(thisdict) \n",
    "print(thisdict.keys()) \n",
    "print(thisdict.values()) "
   ]
  },
  {
   "cell_type": "code",
   "execution_count": 28,
   "metadata": {},
   "outputs": [
    {
     "name": "stdout",
     "output_type": "stream",
     "text": [
      "root = 1.8205642030260802\n"
     ]
    }
   ],
   "source": [
    "# 如果x不是負數，則傳回值為 x ** (1 / y)。\n",
    "# 如果x是負數而且為偶數，則傳回值為0。\n",
    "# 如果x是負數而且為奇數，則傳回值為 -(-x) ** (1 / y)。\n",
    "x = int(input(\"請輸入整數x:\"))\n",
    "y = int(input(\"請輸入整數y(Not 0):\"))\n",
    "\n",
    "if x>=0:\n",
    "    print(f\"root = {x ** (1/y)}\")\n",
    "elif x % 2==0:\n",
    "    print(\"虛數\")\n",
    "else: \n",
    "    print(f\"root = {(-x) ** (1/y)}\")"
   ]
  },
  {
   "cell_type": "code",
   "execution_count": 33,
   "metadata": {},
   "outputs": [
    {
     "name": "stdout",
     "output_type": "stream",
     "text": [
      "root = 10.0\n"
     ]
    }
   ],
   "source": [
    "# 如果x不是負數，則傳回值為 x ** (1 / y)。\n",
    "# 如果x是負數而且為偶數，則傳回值為0。\n",
    "# 如果x是負數而且為奇數，則傳回值為 -(-x) ** (1 / y)。\n",
    "while True:\n",
    "    try:\n",
    "        x = int(input(\"請輸入整數x:\"))\n",
    "    except:\n",
    "        print(\"請重新輸入x\")\n",
    "    else: \n",
    "        break\n",
    "        \n",
    "while True:\n",
    "    try:\n",
    "        y = int(input(\"請輸入整數y(Not 0):\"))\n",
    "    except:\n",
    "        print(\"請重新輸入y\")\n",
    "    else: \n",
    "        if y == 0:\n",
    "            print(\"請重新輸入y\")\n",
    "            continue;\n",
    "        else: \n",
    "            break\n",
    "\n",
    "if x>=0:\n",
    "    print(f\"root = {x ** (1/y)}\")\n",
    "elif x % 2==0:\n",
    "    print(\"虛數\")\n",
    "else: \n",
    "    print(f\"root = {(-x) ** (1/y)}\")"
   ]
  },
  {
   "cell_type": "code",
   "execution_count": 50,
   "metadata": {},
   "outputs": [
    {
     "name": "stdout",
     "output_type": "stream",
     "text": [
      "購買金額: 116544\n",
      "實付金額: 93235\n",
      "實付金額: 93235\n",
      "實付金額: 93236.0\n"
     ]
    }
   ],
   "source": [
    "#輸入顧客購買金額，若金額在\n",
    "#100000元打8折. \n",
    "#50000打85折. \n",
    "#30000打9折. \n",
    "#10000打95折. \n",
    "\n",
    "#請輸入購買金額:130000\n",
    "#實付金額是: 104000.0 元\n",
    "\n",
    "import math\n",
    "while True:\n",
    "    try:\n",
    "        Money = int(input(\"輸入購買金額:\"))\n",
    "    except:\n",
    "        print(\"Error\")\n",
    "    else:\n",
    "        break;\n",
    "\n",
    "rate:float = 1.0\n",
    "if Money < 10000:\n",
    "    rate = 1.0\n",
    "elif Money < 30000:\n",
    "    rate = 0.95\n",
    "elif Money < 50000:\n",
    "    rate = 0.9\n",
    "elif Money < 100000:\n",
    "    rate = 0.85\n",
    "else:\n",
    "    rate = 0.8\n",
    "\n",
    "print(f\"購買金額: {Money}\")\n",
    "print(f\"實付金額: {int(round(Money * rate))}\")\n",
    "print(f\"實付金額: {(Money * rate):.0f}\")\n",
    "print(f\"實付金額: {math.ceil(Money * rate):.1f}\")"
   ]
  },
  {
   "cell_type": "code",
   "execution_count": 55,
   "metadata": {},
   "outputs": [
    {
     "name": "stdout",
     "output_type": "stream",
     "text": [
      "國文: 100, 數學: 100, 獎金: 1000\n"
     ]
    }
   ],
   "source": [
    "while True:\n",
    "    try:\n",
    "        score1:int = max(0, min(100, int(input(\"輸入國文分數:\"))))\n",
    "    except:\n",
    "        print(\"error\")\n",
    "    else: \n",
    "        break\n",
    "\n",
    "while True:\n",
    "    try:\n",
    "        score2:int = max(0, min(100, int(input(\"輸入數學分數:\"))))\n",
    "    except:\n",
    "        print(\"error\")\n",
    "    else: \n",
    "        break\n",
    "\n",
    "if (score1 == 100) and (score2 == 100):\n",
    "    reward = 1000\n",
    "elif (score1 == 100) or (score2 ==100):\n",
    "    reward = 500\n",
    "else:\n",
    "    reward = 0\n",
    "\n",
    "print(f\"國文: {score1}, 數學: {score2}, 獎金: {reward}\")"
   ]
  },
  {
   "cell_type": "code",
   "execution_count": 57,
   "metadata": {},
   "outputs": [
    {
     "name": "stdout",
     "output_type": "stream",
     "text": [
      "國文: 100, 數學: 0, 獎金: 500\n"
     ]
    }
   ],
   "source": [
    "score1:int = max(0, min(100, int(input(\"輸入國文分數:\"))))\n",
    "score2:int = max(0, min(100, int(input(\"輸入數學分數:\"))))\n",
    "\n",
    "if (score1 == 100) and (score2 == 100):\n",
    "    reward = 1000\n",
    "elif (score1 == 100) or (score2 == 100):\n",
    "    reward = 500\n",
    "else:\n",
    "    reward = 0\n",
    "\n",
    "print(f\"國文: {score1}, 數學: {score2}, 獎金: {reward}\")"
   ]
  },
  {
   "cell_type": "code",
   "execution_count": 58,
   "metadata": {},
   "outputs": [
    {
     "name": "stdout",
     "output_type": "stream",
     "text": [
      "NOT 351~400\n"
     ]
    }
   ],
   "source": [
    "No:int = int(input(\"輸入整數號碼:\"))\n",
    "\n",
    "if (No <= 350) or (No > 400):\n",
    "    print(\"NOT 351~400\")\n",
    "else:\n",
    "    print(\"351~400\")"
   ]
  }
 ],
 "metadata": {
  "kernelspec": {
   "display_name": "Python 3",
   "language": "python",
   "name": "python3"
  },
  "language_info": {
   "codemirror_mode": {
    "name": "ipython",
    "version": 3
   },
   "file_extension": ".py",
   "mimetype": "text/x-python",
   "name": "python",
   "nbconvert_exporter": "python",
   "pygments_lexer": "ipython3",
   "version": "3.10.12"
  },
  "orig_nbformat": 4
 },
 "nbformat": 4,
 "nbformat_minor": 2
}
