{
 "cells": [
  {
   "cell_type": "code",
   "execution_count": 2,
   "metadata": {},
   "outputs": [
    {
     "name": "stdout",
     "output_type": "stream",
     "text": [
      "3.15\n",
      "3.147\n"
     ]
    }
   ],
   "source": [
    "_f01 = round(3.14659331215, 2)\n",
    "print(_f01)\n",
    "_f01 = round(3.14659331215, ndigits= 3)\n",
    "print(_f01)"
   ]
  },
  {
   "cell_type": "code",
   "execution_count": 9,
   "metadata": {},
   "outputs": [
    {
     "name": "stdout",
     "output_type": "stream",
     "text": [
      "d!!\n",
      "World!\n",
      "llo Wo\n",
      "loW\n",
      "roW ol\n",
      "oW oll\n"
     ]
    }
   ],
   "source": [
    "_string = \"Hello World!!\"\n",
    "print(_string[-3:])\n",
    "print(_string[-7:-1:1])\n",
    "print(_string[2:8])\n",
    "print(_string[2:8:2])\n",
    "print(_string[8:2:-1])\n",
    "print(_string[7:1:-1])"
   ]
  },
  {
   "cell_type": "code",
   "execution_count": 11,
   "metadata": {},
   "outputs": [
    {
     "name": "stdout",
     "output_type": "stream",
     "text": [
      "Hello World!!\n",
      "He__o World!!\n"
     ]
    }
   ],
   "source": [
    "_string = \"Hello World!!\"\n",
    "print(_string)\n",
    "print(_string.replace(\"l\", \"_\", 2))"
   ]
  },
  {
   "cell_type": "code",
   "execution_count": 16,
   "metadata": {},
   "outputs": [
    {
     "name": "stdout",
     "output_type": "stream",
     "text": [
      "斜邊:6; 對邊:3; degrees:30.0\n"
     ]
    }
   ],
   "source": [
    "#\n",
    "import math\n",
    "side1 = eval(input(\"輸入直角三角形斜邊:\"))\n",
    "side2 = eval(input(\"輸入直角三角形對邊:\"))\n",
    "degree = round(math.degrees(math.asin(side2/side1)), ndigits= 2)\n",
    "print(f\"斜邊:{side1}; 對邊:{side2}; degrees:{degree}\")"
   ]
  }
 ],
 "metadata": {
  "kernelspec": {
   "display_name": "Python 3",
   "language": "python",
   "name": "python3"
  },
  "language_info": {
   "codemirror_mode": {
    "name": "ipython",
    "version": 3
   },
   "file_extension": ".py",
   "mimetype": "text/x-python",
   "name": "python",
   "nbconvert_exporter": "python",
   "pygments_lexer": "ipython3",
   "version": "3.10.12"
  },
  "orig_nbformat": 4
 },
 "nbformat": 4,
 "nbformat_minor": 2
}
