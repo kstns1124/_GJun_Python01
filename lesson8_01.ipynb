{
 "cells": [
  {
   "cell_type": "code",
   "execution_count": 2,
   "metadata": {},
   "outputs": [
    {
     "name": "stdout",
     "output_type": "stream",
     "text": [
      "1000\n"
     ]
    }
   ],
   "source": [
    "def func_sum() -> None:\n",
    "    a = 10\n",
    "    b = 3\n",
    "    c = a** b\n",
    "    print(c)\n",
    "\n",
    "func_sum()"
   ]
  },
  {
   "cell_type": "code",
   "execution_count": 9,
   "metadata": {},
   "outputs": [],
   "source": [
    "def func_sum(a:int|float, b:int|float) -> None:\n",
    "    c = a + b\n",
    "    print(f\"{a:,} + {b:,} = {c:,}\")"
   ]
  },
  {
   "cell_type": "code",
   "execution_count": 12,
   "metadata": {},
   "outputs": [
    {
     "name": "stdout",
     "output_type": "stream",
     "text": [
      "199 + 2,599 = 2,798\n",
      "20.3 + 2,599 = 2,619.3\n",
      "30 + 1,000 = 1,030\n"
     ]
    }
   ],
   "source": [
    "func_sum(199, 2599)\n",
    "#引數名稱呼叫\n",
    "func_sum(20.3, 2599)\n",
    "#引數名稱呼叫\n",
    "func_sum(a = 30, b = 1000)"
   ]
  },
  {
   "cell_type": "code",
   "execution_count": 13,
   "metadata": {},
   "outputs": [],
   "source": [
    "def func_sum1(a:int|float, b:int|float) -> int|float:\n",
    "    c = a + b\n",
    "    return c"
   ]
  },
  {
   "cell_type": "code",
   "execution_count": 17,
   "metadata": {},
   "outputs": [
    {
     "name": "stdout",
     "output_type": "stream",
     "text": [
      "256.66 + 1,099 = 1,355.66\n"
     ]
    }
   ],
   "source": [
    "a = 256.66\n",
    "b = 1099\n",
    "c = func_sum1(a, b)\n",
    "print(f\"{a:,} + {b:,} = {c:,}\")"
   ]
  },
  {
   "cell_type": "code",
   "execution_count": 20,
   "metadata": {},
   "outputs": [],
   "source": [
    "import math \n",
    "# 1 ~ 100 質數\n",
    "def checkPrime(start:int, end:int) -> tuple:\n",
    "    Tu = []\n",
    "    for i in range(start, end+1):\n",
    "        if i <= 1:\n",
    "            continue\n",
    "        \n",
    "        isPrime = True\n",
    "        for j in range(2, math.floor(math.pow(i, 0.5))+1):\n",
    "            if(i%j == 0):\n",
    "                isPrime = False\n",
    "                break;\n",
    "        if isPrime:\n",
    "            Tu.append(i)\n",
    "    return tuple(Tu)           \n"
   ]
  },
  {
   "cell_type": "code",
   "execution_count": 23,
   "metadata": {},
   "outputs": [
    {
     "data": {
      "text/plain": [
       "'xxx'"
      ]
     },
     "metadata": {},
     "output_type": "display_data"
    },
    {
     "data": {
      "text/plain": [
       "'fff'"
      ]
     },
     "execution_count": 23,
     "metadata": {},
     "output_type": "execute_result"
    }
   ],
   "source": [
    "display('xxx')# ipyyhon 功能\n",
    "'fff'# ipyyhon 功能"
   ]
  },
  {
   "cell_type": "code",
   "execution_count": 21,
   "metadata": {},
   "outputs": [
    {
     "name": "stdout",
     "output_type": "stream",
     "text": [
      "(2, 3, 5, 7, 11, 13, 17, 19, 23, 29, 31, 37, 41, 43, 47)\n"
     ]
    }
   ],
   "source": [
    "result = checkPrime(1, 50)\n",
    "print(result)"
   ]
  },
  {
   "cell_type": "code",
   "execution_count": 26,
   "metadata": {},
   "outputs": [
    {
     "name": "stdout",
     "output_type": "stream",
     "text": [
      "123456789\n",
      "123456789\n"
     ]
    }
   ],
   "source": [
    "s01 ='123\\\n",
    "456\\\n",
    "789'\n",
    "print(s01)\n",
    "s02 ='123'\n",
    "s02 +='456'\n",
    "s02 +='789'\n",
    "print(s02)"
   ]
  },
  {
   "cell_type": "code",
   "execution_count": 28,
   "metadata": {},
   "outputs": [
    {
     "name": "stdout",
     "output_type": "stream",
     "text": [
      "ffn is a library that contains many useful functions for those who work in quantitative finance.It stands on the shoulders of giants (Pandas, Numpy, Scipy, etc.)and provides a vast array of utilities,from performance measurement and evaluation to graphing and common data transformations.\n",
      "ffn is a library that contains many useful functions for those who workin quantitative finance.It stands on the shoulders of giants (Pandas, Numpy, Scipy, etc.)and provides a vast array of utilities,from performance measurement and evaluation to graphing and common data transformations.\n"
     ]
    }
   ],
   "source": [
    "#字串換行連結\n",
    "sentens = 'ffn is a library that contains many useful functions for those who work \\\n",
    "in quantitative finance.\\\n",
    "It stands on the shoulders of giants (Pandas, Numpy, Scipy, etc.)\\\n",
    "and provides a vast array of utilities,\\\n",
    "from performance measurement and evaluation to graphing and common data transformations.'\n",
    "print(sentens)\n",
    "sentens = \"\"\n",
    "sentens += 'ffn is a library that contains many useful functions for those who work'\n",
    "sentens += 'in quantitative finance.'\n",
    "sentens += 'It stands on the shoulders of giants (Pandas, Numpy, Scipy, etc.)'\n",
    "sentens += 'and provides a vast array of utilities,'\n",
    "sentens += 'from performance measurement and evaluation to graphing and common data transformations.'\n",
    "print(sentens)"
   ]
  }
 ],
 "metadata": {
  "kernelspec": {
   "display_name": "Python 3",
   "language": "python",
   "name": "python3"
  },
  "language_info": {
   "codemirror_mode": {
    "name": "ipython",
    "version": 3
   },
   "file_extension": ".py",
   "mimetype": "text/x-python",
   "name": "python",
   "nbconvert_exporter": "python",
   "pygments_lexer": "ipython3",
   "version": "3.10.12"
  },
  "orig_nbformat": 4
 },
 "nbformat": 4,
 "nbformat_minor": 2
}
