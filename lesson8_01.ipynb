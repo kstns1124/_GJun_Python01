{
 "cells": [
  {
   "cell_type": "code",
   "execution_count": 2,
   "metadata": {},
   "outputs": [
    {
     "name": "stdout",
     "output_type": "stream",
     "text": [
      "1000\n"
     ]
    }
   ],
   "source": [
    "def func_sum() -> None:\n",
    "    a = 10\n",
    "    b = 3\n",
    "    c = a** b\n",
    "    print(c)\n",
    "\n",
    "func_sum()"
   ]
  },
  {
   "cell_type": "code",
   "execution_count": 9,
   "metadata": {},
   "outputs": [],
   "source": [
    "def func_sum(a:int|float, b:int|float) -> None:\n",
    "    c = a + b\n",
    "    print(f\"{a:,} + {b:,} = {c:,}\")"
   ]
  },
  {
   "cell_type": "code",
   "execution_count": 12,
   "metadata": {},
   "outputs": [
    {
     "name": "stdout",
     "output_type": "stream",
     "text": [
      "199 + 2,599 = 2,798\n",
      "20.3 + 2,599 = 2,619.3\n",
      "30 + 1,000 = 1,030\n"
     ]
    }
   ],
   "source": [
    "func_sum(199, 2599)\n",
    "#引數名稱呼叫\n",
    "func_sum(20.3, 2599)\n",
    "#引數名稱呼叫\n",
    "func_sum(a = 30, b = 1000)"
   ]
  },
  {
   "cell_type": "code",
   "execution_count": 13,
   "metadata": {},
   "outputs": [],
   "source": [
    "def func_sum1(a:int|float, b:int|float) -> int|float:\n",
    "    c = a + b\n",
    "    return c"
   ]
  },
  {
   "cell_type": "code",
   "execution_count": 17,
   "metadata": {},
   "outputs": [
    {
     "name": "stdout",
     "output_type": "stream",
     "text": [
      "256.66 + 1,099 = 1,355.66\n"
     ]
    }
   ],
   "source": [
    "a = 256.66\n",
    "b = 1099\n",
    "c = func_sum1(a, b)\n",
    "print(f\"{a:,} + {b:,} = {c:,}\")"
   ]
  }
 ],
 "metadata": {
  "kernelspec": {
   "display_name": "Python 3",
   "language": "python",
   "name": "python3"
  },
  "language_info": {
   "codemirror_mode": {
    "name": "ipython",
    "version": 3
   },
   "file_extension": ".py",
   "mimetype": "text/x-python",
   "name": "python",
   "nbconvert_exporter": "python",
   "pygments_lexer": "ipython3",
   "version": "3.10.12"
  },
  "orig_nbformat": 4
 },
 "nbformat": 4,
 "nbformat_minor": 2
}
