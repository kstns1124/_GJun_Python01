{
 "cells": [
  {
   "cell_type": "code",
   "execution_count": null,
   "metadata": {},
   "outputs": [],
   "source": [
    "import random as rnd\n",
    "\n",
    "print(\"==========猜數字遊戲==========\\n\\n\")\n",
    "max = 10\n",
    "min = 1\n",
    "tar = rnd.randrange(min, max);\n",
    "ct = 0\n",
    "while(True):\n",
    "    try:\n",
    "        guess = int(input(f\"第{(ct+1)}次，請輸入數字({min}~{max}):\"))\n",
    "    except:\n",
    "        print(\"輸入非數字\")\n",
    "    else:\n",
    "        ct += 1\n",
    "        if(guess == tar):\n",
    "            print(f\"猜中了，您已經猜測{(ct)}次，答案是{tar}!\")\n",
    "            break;\n",
    "        else:\n",
    "            print(f\"猜錯了，您已經猜測{ct}次\")\n",
    "print(\"遊戲結束\");\n"
   ]
  },
  {
   "cell_type": "code",
   "execution_count": null,
   "metadata": {},
   "outputs": [],
   "source": [
    "import random as rnd\n",
    "\n",
    "print(\"==========猜數字遊戲==========\\n\\n\")\n",
    "max = 100\n",
    "min = 1\n",
    "tar = rnd.randrange(min, max);\n",
    "ct = 0\n",
    "while(True):\n",
    "    try:\n",
    "        guess = int(input(f\"第{(ct+1)}次，請輸入數字({min}~{max}):\"))\n",
    "    except:\n",
    "        print(\"輸入非數字\")\n",
    "    else:\n",
    "        ct += 1\n",
    "        if(guess == tar):\n",
    "            print(f\"猜中了，您已經猜測{(ct)}次，答案是{tar}!\")\n",
    "            break;\n",
    "        elif(guess > tar):\n",
    "            max = guess - 1\n",
    "            print(f\"猜錯了，答案比猜測數值小，您已經猜測{ct}次\")\n",
    "        else:\n",
    "            min = guess + 1\n",
    "            print(f\"猜錯了，答案比猜測數值大，您已經猜測{ct}次\")\n",
    "print(\"遊戲結束\");\n"
   ]
  },
  {
   "cell_type": "code",
   "execution_count": 2,
   "metadata": {},
   "outputs": [
    {
     "name": "stdout",
     "output_type": "stream",
     "text": [
      "==========猜數字遊戲==========\n",
      "\n",
      "\n",
      "猜錯了，答案比猜測數值小，您已經猜測1次\n",
      "猜錯了，答案比猜測數值小，您已經猜測2次\n",
      "猜錯了，答案比猜測數值小，您已經猜測3次\n",
      "猜錯了，答案比猜測數值大，您已經猜測4次\n",
      "猜中了，您已經猜測5次，答案是9!\n",
      "遊戲結束\n",
      "==========猜數字遊戲==========\n",
      "\n",
      "\n",
      "猜錯了，答案比猜測數值小，您已經猜測1次\n",
      "猜錯了，答案比猜測數值小，您已經猜測2次\n",
      "猜錯了，答案比猜測數值大，您已經猜測3次\n",
      "猜錯了，答案比猜測數值大，您已經猜測4次\n",
      "猜錯了，答案比猜測數值大，您已經猜測5次\n",
      "猜中了，您已經猜測6次，答案是23!\n",
      "遊戲結束\n"
     ]
    }
   ],
   "source": [
    "import random as rnd\n",
    "\n",
    "con = \"Y\"\n",
    "while (con.upper() == \"Y\"):\n",
    "\n",
    "    print(\"==========猜數字遊戲==========\\n\\n\")\n",
    "    max = 100\n",
    "    min = 1\n",
    "    tar = rnd.randrange(min, max);\n",
    "    ct = 0\n",
    "    while(True):\n",
    "        try:\n",
    "            guess = int(input(f\"第{(ct+1)}次，請輸入數字({min}~{max}):\"))\n",
    "        except:\n",
    "            print(\"輸入非數字\")\n",
    "        else:\n",
    "            ct += 1\n",
    "            if(guess == tar):\n",
    "                print(f\"猜中了，您已經猜測{(ct)}次，答案是{tar}!\")\n",
    "                break;\n",
    "            elif(guess > tar):\n",
    "                max = guess - 1\n",
    "                print(f\"猜錯了，答案比猜測數值小，您已經猜測{ct}次\")\n",
    "            else:\n",
    "                min = guess + 1\n",
    "                print(f\"猜錯了，答案比猜測數值大，您已經猜測{ct}次\")\n",
    "\n",
    "    while True:\n",
    "        con = input(\"是否再玩一次?(Y/N):\")\n",
    "        if(con.upper() == \"Y\") or (con.upper() == \"N\"):\n",
    "            break\n",
    "\n",
    "print(\"遊戲結束\");\n"
   ]
  }
 ],
 "metadata": {
  "kernelspec": {
   "display_name": "Python 3",
   "language": "python",
   "name": "python3"
  },
  "language_info": {
   "codemirror_mode": {
    "name": "ipython",
    "version": 3
   },
   "file_extension": ".py",
   "mimetype": "text/x-python",
   "name": "python",
   "nbconvert_exporter": "python",
   "pygments_lexer": "ipython3",
   "version": "3.10.12"
  },
  "orig_nbformat": 4
 },
 "nbformat": 4,
 "nbformat_minor": 2
}
