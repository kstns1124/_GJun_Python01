{
 "cells": [
  {
   "cell_type": "code",
   "execution_count": 4,
   "metadata": {},
   "outputs": [
    {
     "name": "stdout",
     "output_type": "stream",
     "text": [
      "==========猜數字遊戲==========\n",
      "\n",
      "\n",
      "猜錯了，您已經猜測1\n",
      "猜錯了，您已經猜測2\n",
      "猜錯了，您已經猜測3\n",
      "猜錯了，您已經猜測4\n",
      "猜中了，您已經猜測5次，答案是5!\n",
      "遊戲結束\n"
     ]
    }
   ],
   "source": [
    "import random as rnd\n",
    "\n",
    "print(\"==========猜數字遊戲==========\\n\\n\")\n",
    "max = 10\n",
    "min = 1\n",
    "tar = rnd.randrange(min, max);\n",
    "ct = 0\n",
    "while(True):\n",
    "    try:\n",
    "        guess = int(input(f\"第{(ct+1)}次，請輸入數字({min}~{max}):\"))\n",
    "    except:\n",
    "        print(\"輸入非數字\")\n",
    "    else:\n",
    "        ct += 1\n",
    "        if(guess == tar):\n",
    "            print(f\"猜中了，您已經猜測{(ct)}次，答案是{tar}!\")\n",
    "            break;\n",
    "        else:\n",
    "            print(f\"猜錯了，您已經猜測{ct}次\")\n",
    "print(\"遊戲結束\");\n"
   ]
  }
 ],
 "metadata": {
  "kernelspec": {
   "display_name": "Python 3",
   "language": "python",
   "name": "python3"
  },
  "language_info": {
   "codemirror_mode": {
    "name": "ipython",
    "version": 3
   },
   "file_extension": ".py",
   "mimetype": "text/x-python",
   "name": "python",
   "nbconvert_exporter": "python",
   "pygments_lexer": "ipython3",
   "version": "3.10.12"
  },
  "orig_nbformat": 4
 },
 "nbformat": 4,
 "nbformat_minor": 2
}
