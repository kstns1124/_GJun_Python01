{
 "cells": [
  {
   "cell_type": "code",
   "execution_count": 3,
   "metadata": {},
   "outputs": [
    {
     "name": "stdout",
     "output_type": "stream",
     "text": [
      "<re.Match object; span=(0, 15), match='d1234@gmial.com'>\n",
      "正確\n"
     ]
    }
   ],
   "source": [
    "import re\n",
    "\n",
    "Num = \"d1234@gmial.com\"\n",
    "def isEmail(text:str) -> bool:\n",
    "    #pattern = re.compile(r'[a-zA-Z0-9]+@[a-z]+\\.[a-z]{2,3}')\n",
    "    pattern = re.compile(R\"^\\w+([-+.]\\w+)*@\\w+([-.]\\w+)*\\.\\w+([-.]\\w+)*$\")\n",
    "    m = pattern.match(Num)\n",
    "    if(m is None):\n",
    "        return False\n",
    "    print(m)\n",
    "    return True\n",
    "\n",
    "if isEmail(Num):\n",
    "    print(\"正確\")\n",
    "else:\n",
    "    print(\"錯誤\")"
   ]
  }
 ],
 "metadata": {
  "kernelspec": {
   "display_name": "Python 3",
   "language": "python",
   "name": "python3"
  },
  "language_info": {
   "codemirror_mode": {
    "name": "ipython",
    "version": 3
   },
   "file_extension": ".py",
   "mimetype": "text/x-python",
   "name": "python",
   "nbconvert_exporter": "python",
   "pygments_lexer": "ipython3",
   "version": "3.10.12"
  },
  "orig_nbformat": 4
 },
 "nbformat": 4,
 "nbformat_minor": 2
}
