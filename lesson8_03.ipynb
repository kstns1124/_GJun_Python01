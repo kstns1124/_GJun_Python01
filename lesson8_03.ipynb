{
 "cells": [
  {
   "cell_type": "code",
   "execution_count": 18,
   "metadata": {},
   "outputs": [
    {
     "name": "stdout",
     "output_type": "stream",
     "text": [
      "Hello rld\n",
      "Hello, d, Hello World\n"
     ]
    }
   ],
   "source": [
    "# sequence data\n",
    "letters = \"Hello World\"\n",
    "print(letters[0], letters[1: 6], letters[-3:-1], letters[-1],sep = \"\")\n",
    "print(letters[:5], letters[10:] ,letters[-11:] ,sep = \", \")"
   ]
  },
  {
   "cell_type": "code",
   "execution_count": 11,
   "metadata": {},
   "outputs": [
    {
     "name": "stdout",
     "output_type": "stream",
     "text": [
      "H e l l o   W o r l d "
     ]
    }
   ],
   "source": [
    "for i in letters:\n",
    "    print(i, sep = \" \", end = \" \")"
   ]
  },
  {
   "cell_type": "code",
   "execution_count": 17,
   "metadata": {},
   "outputs": [
    {
     "name": "stdout",
     "output_type": "stream",
     "text": [
      "(1, 'H')  (2, 'e')  (3, 'l')  (4, 'l')  (5, 'o')  (6, ' ')  (7, 'W')  (8, 'o')  (9, 'r')  (10, 'l')  (11, 'd')  \n",
      "(0, 'H')  (1, 'e')  (2, 'l')  (3, 'l')  (4, 'o')  (5, ' ')  (6, 'W')  (7, 'o')  (8, 'r')  (9, 'l')  (10, 'd')  "
     ]
    }
   ],
   "source": [
    "for i in enumerate(letters, start = 1):\n",
    "    print(i, end = \"  \")\n",
    "print()\n",
    "for i in enumerate(letters, start = 0):\n",
    "    print(i, end = \"  \")"
   ]
  },
  {
   "cell_type": "code",
   "execution_count": 19,
   "metadata": {},
   "outputs": [
    {
     "name": "stdout",
     "output_type": "stream",
     "text": [
      "Taipei\n"
     ]
    }
   ],
   "source": [
    "city = \"taipei\"\n",
    "print(city.capitalize())"
   ]
  },
  {
   "cell_type": "code",
   "execution_count": 28,
   "metadata": {},
   "outputs": [
    {
     "name": "stdout",
     "output_type": "stream",
     "text": [
      "<built-in method bit_length of int object at 0x7f7c29be4d50>\n",
      "(100, 1)\n",
      "0b1100100\n"
     ]
    }
   ],
   "source": [
    "num:float = 100\n",
    "print(num.bit_length)\n",
    "print(num.as_integer_ratio())\n",
    "print(bin(num))"
   ]
  },
  {
   "cell_type": "code",
   "execution_count": 32,
   "metadata": {},
   "outputs": [
    {
     "name": "stdout",
     "output_type": "stream",
     "text": [
      "Henry\n",
      "Penry\n"
     ]
    }
   ],
   "source": [
    "name = \"Henry\"\n",
    "name.replace(\"H\", \"P\")\n",
    "print(name)\n",
    "name = \"Henry\".replace(\"H\", \"P\")\n",
    "print(name)"
   ]
  },
  {
   "cell_type": "code",
   "execution_count": 35,
   "metadata": {},
   "outputs": [
    {
     "name": "stdout",
     "output_type": "stream",
     "text": [
      "8\n",
      "-1\n"
     ]
    }
   ],
   "source": [
    "str1 = 'this is python tutorial'\n",
    "print(str1.find('python'))\n",
    "print(str1.find('not'))"
   ]
  },
  {
   "cell_type": "code",
   "execution_count": 36,
   "metadata": {},
   "outputs": [
    {
     "name": "stdout",
     "output_type": "stream",
     "text": [
      "True\n",
      "False\n"
     ]
    }
   ],
   "source": [
    "print(\"python\" in str1)\n",
    "print(\"python\" not in str1)"
   ]
  }
 ],
 "metadata": {
  "kernelspec": {
   "display_name": "Python 3",
   "language": "python",
   "name": "python3"
  },
  "language_info": {
   "codemirror_mode": {
    "name": "ipython",
    "version": 3
   },
   "file_extension": ".py",
   "mimetype": "text/x-python",
   "name": "python",
   "nbconvert_exporter": "python",
   "pygments_lexer": "ipython3",
   "version": "3.10.12"
  },
  "orig_nbformat": 4
 },
 "nbformat": 4,
 "nbformat_minor": 2
}
