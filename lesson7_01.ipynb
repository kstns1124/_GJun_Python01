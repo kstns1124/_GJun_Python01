{
 "cells": [
  {
   "cell_type": "code",
   "execution_count": 1,
   "metadata": {},
   "outputs": [
    {
     "name": "stdout",
     "output_type": "stream",
     "text": [
      "0,1,2,3,4,5,\n",
      "end\n"
     ]
    }
   ],
   "source": [
    "i = 0\n",
    "while(i<6):\n",
    "    print(i, end = \",\")\n",
    "    i+=1\n",
    "print('\\nend')"
   ]
  },
  {
   "cell_type": "code",
   "execution_count": 5,
   "metadata": {},
   "outputs": [
    {
     "name": "stdout",
     "output_type": "stream",
     "text": [
      "1month: 36000/100000\n",
      "2month: 36032/100000\n",
      "3month: 66031/100000\n",
      "4month: 128253/100000\n",
      "存4月，共128253元，BUY\n"
     ]
    }
   ],
   "source": [
    "#小明想要存錢買一輛機車,機車每輛30000元，他將每月存的錢輸入，當存款足夠買機車時，就顯示提示訊息告知。\n",
    "target:int = 100000\n",
    "deposit:int = 0\n",
    "ct:int = 0\n",
    "while deposit < target:\n",
    "    ct+=1\n",
    "    deposit += int(input(f\"{ct}month 存款:\"))\n",
    "    print(f\"{ct}month: {deposit}/{target}\")\n",
    "print(f\"存{ct}月，共{deposit}元，BUY\")"
   ]
  },
  {
   "cell_type": "code",
   "execution_count": 7,
   "metadata": {},
   "outputs": [
    {
     "name": "stdout",
     "output_type": "stream",
     "text": [
      "輸入:F\n",
      "輸入:R\n",
      "輸入:G\n",
      "輸入:N\n",
      "end\n"
     ]
    }
   ],
   "source": [
    "stuff = ''\n",
    "while (stuff != \":q\"):\n",
    "    stuff = input(\"請輸入小寫英文字[輸入:q離開]:\")\n",
    "    print(f\"輸入:{stuff.capitalize()}\")\n",
    "print(\"end!\")"
   ]
  },
  {
   "cell_type": "code",
   "execution_count": null,
   "metadata": {},
   "outputs": [],
   "source": [
    "stuff = ''\n",
    "while (True):\n",
    "    stuff = input(\"請輸入小寫英文字[輸入:q離開]:\")\n",
    "    if stuff != \":q\":\n",
    "        print(f\"輸入:{stuff.capitalize()}\")\n",
    "    else:\n",
    "        break\n",
    "print(\"end!\")"
   ]
  },
  {
   "cell_type": "code",
   "execution_count": 2,
   "metadata": {},
   "outputs": [
    {
     "name": "stdout",
     "output_type": "stream",
     "text": [
      "正偶數加總為: 86\n",
      "end\n"
     ]
    }
   ],
   "source": [
    "#請設計一個程式，讓使用者輸入數值，只有加總正偶數值，不加總正奇數值，如果輸入負數，結束程式。\n",
    "total = 0\n",
    "while True:\n",
    "    input_num = int(input(\"請輸入數值:\"))\n",
    "    if input_num < 0:\n",
    "        break\n",
    "    if (input_num % 2 == 0):\n",
    "        total += input_num\n",
    "\n",
    "print(f\"正偶數加總為: {total}\")\n",
    "print(\"end\")\n"
   ]
  },
  {
   "cell_type": "code",
   "execution_count": 8,
   "metadata": {},
   "outputs": [
    {
     "name": "stdout",
     "output_type": "stream",
     "text": [
      "0.099863646682813, 6, 6\n",
      "0.22756738694836443, 7, 0\n",
      "0.9871552422984945, 3, 2\n"
     ]
    }
   ],
   "source": [
    "# Rand\n",
    "import random as rnd\n",
    "\n",
    "for i in range(0, 3, 1):\n",
    "    print(rnd.random(), end = \", \")\n",
    "    print(rnd.randrange(1, 10), end = \", \")\n",
    "    print(rnd.randrange(0, 10, 2))"
   ]
  }
 ],
 "metadata": {
  "kernelspec": {
   "display_name": "Python 3",
   "language": "python",
   "name": "python3"
  },
  "language_info": {
   "codemirror_mode": {
    "name": "ipython",
    "version": 3
   },
   "file_extension": ".py",
   "mimetype": "text/x-python",
   "name": "python",
   "nbconvert_exporter": "python",
   "pygments_lexer": "ipython3",
   "version": "3.10.12"
  },
  "orig_nbformat": 4
 },
 "nbformat": 4,
 "nbformat_minor": 2
}
