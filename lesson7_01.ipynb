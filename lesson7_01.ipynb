{
 "cells": [
  {
   "cell_type": "code",
   "execution_count": 1,
   "metadata": {},
   "outputs": [
    {
     "name": "stdout",
     "output_type": "stream",
     "text": [
      "0,1,2,3,4,5,\n",
      "end\n"
     ]
    }
   ],
   "source": [
    "i = 0\n",
    "while(i<6):\n",
    "    print(i, end = \",\")\n",
    "    i+=1\n",
    "print('\\nend')"
   ]
  },
  {
   "cell_type": "code",
   "execution_count": 5,
   "metadata": {},
   "outputs": [
    {
     "name": "stdout",
     "output_type": "stream",
     "text": [
      "1month: 36000/100000\n",
      "2month: 36032/100000\n",
      "3month: 66031/100000\n",
      "4month: 128253/100000\n",
      "存4月，共128253元，BUY\n"
     ]
    }
   ],
   "source": [
    "#小明想要存錢買一輛機車,機車每輛30000元，他將每月存的錢輸入，當存款足夠買機車時，就顯示提示訊息告知。\n",
    "target:int = 100000\n",
    "deposit:int = 0\n",
    "ct:int = 0\n",
    "while deposit < target:\n",
    "    ct+=1\n",
    "    deposit += int(input(f\"{ct}month 存款:\"))\n",
    "    print(f\"{ct}month: {deposit}/{target}\")\n",
    "print(f\"存{ct}月，共{deposit}元，BUY\")"
   ]
  },
  {
   "cell_type": "code",
   "execution_count": 7,
   "metadata": {},
   "outputs": [
    {
     "name": "stdout",
     "output_type": "stream",
     "text": [
      "輸入:F\n",
      "輸入:R\n",
      "輸入:G\n",
      "輸入:N\n",
      "end\n"
     ]
    }
   ],
   "source": [
    "stuff = ''\n",
    "while (stuff != \":q\"):\n",
    "    stuff = input(\"請輸入小寫英文字[輸入:q離開]:\")\n",
    "    print(f\"輸入:{stuff.capitalize()}\")\n",
    "print(\"end!\")"
   ]
  },
  {
   "cell_type": "code",
   "execution_count": null,
   "metadata": {},
   "outputs": [],
   "source": [
    "stuff = ''\n",
    "while (True):\n",
    "    stuff = input(\"請輸入小寫英文字[輸入:q離開]:\")\n",
    "    if stuff != \":q\":\n",
    "        print(f\"輸入:{stuff.capitalize()}\")\n",
    "    else:\n",
    "        break\n",
    "print(\"end!\")"
   ]
  },
  {
   "cell_type": "code",
   "execution_count": null,
   "metadata": {},
   "outputs": [],
   "source": []
  }
 ],
 "metadata": {
  "kernelspec": {
   "display_name": "Python 3",
   "language": "python",
   "name": "python3"
  },
  "language_info": {
   "codemirror_mode": {
    "name": "ipython",
    "version": 3
   },
   "file_extension": ".py",
   "mimetype": "text/x-python",
   "name": "python",
   "nbconvert_exporter": "python",
   "pygments_lexer": "ipython3",
   "version": "3.10.12"
  },
  "orig_nbformat": 4
 },
 "nbformat": 4,
 "nbformat_minor": 2
}
