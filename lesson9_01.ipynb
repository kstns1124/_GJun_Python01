{
 "cells": [
  {
   "cell_type": "code",
   "execution_count": 14,
   "metadata": {},
   "outputs": [
    {
     "name": "stdout",
     "output_type": "stream",
     "text": [
      "None\n",
      "end\n"
     ]
    }
   ],
   "source": [
    "#check phon Num\n",
    "import re\n",
    "\n",
    "phone_num = input(\"input CellPhone NO(XXXX-XXX-XXX): \")\n",
    "m = re.search('^[0-9]{4}[0-3]{3}[0-9]{3}$', phone_num)\n",
    "#m = re.search('^[0-9]{10,10}$', phone_num)\n",
    "print(m)\n",
    "print(\"end\")"
   ]
  }
 ],
 "metadata": {
  "kernelspec": {
   "display_name": "Python 3",
   "language": "python",
   "name": "python3"
  },
  "language_info": {
   "codemirror_mode": {
    "name": "ipython",
    "version": 3
   },
   "file_extension": ".py",
   "mimetype": "text/x-python",
   "name": "python",
   "nbconvert_exporter": "python",
   "pygments_lexer": "ipython3",
   "version": "3.10.12"
  },
  "orig_nbformat": 4
 },
 "nbformat": 4,
 "nbformat_minor": 2
}
