{
 "cells": [
  {
   "cell_type": "code",
   "execution_count": 40,
   "metadata": {},
   "outputs": [
    {
     "name": "stdout",
     "output_type": "stream",
     "text": [
      "0976-148-653\n",
      "0988555-966\n",
      "<re.Match object; span=(0, 13), match='0976-148-653\\n'>\n",
      "end\n"
     ]
    }
   ],
   "source": [
    "#check phon Num\n",
    "import re\n",
    "\n",
    "#phone_num = input(\"input CellPhone NO(XXXX-XXX-XXX): \")\n",
    "phone_num =  \"\"\"0976-148-653\n",
    "0988555-966\"\"\"\n",
    "m = re.match('^[0-9]{4}-?[0-9]{3}-?[0-9]{3}\\n?', phone_num)\n",
    "#m = re.search('^[0-9]{10}$', phone_num)\n",
    "print(phone_num, m, \"end\", sep= \"\\n\")"
   ]
  },
  {
   "cell_type": "code",
   "execution_count": 51,
   "metadata": {},
   "outputs": [
    {
     "name": "stdout",
     "output_type": "stream",
     "text": [
      "['cats', 'dogs']\n",
      "['all cats are', 'all dogs are']\n"
     ]
    }
   ],
   "source": [
    "#check phon Num\n",
    "import re\n",
    "\n",
    "x = re.findall( r'all (.*?) are', 'all cats are smarter than dogs, all dogs are dumber than cats')\n",
    "print(x)\n",
    "# Output: ['cats', 'dogs']\n",
    "g = [x.group() for x in re.finditer( r'all (.*?) are', 'all cats are smarter than dogs, all dogs are dumber than cats')]\n",
    "print(g)\n",
    "# Output: ['all cats are', 'all dogs are']"
   ]
  },
  {
   "cell_type": "code",
   "execution_count": 44,
   "metadata": {},
   "outputs": [
    {
     "name": "stdout",
     "output_type": "stream",
     "text": [
      "0976-148-653\n",
      "0988555-966\n",
      "['0976-148-653', '0988555-966']\n",
      "end\n"
     ]
    }
   ],
   "source": [
    "#check phon Num\n",
    "import re\n",
    "\n",
    "#phone_num = input(\"input CellPhone NO(XXXX-XXX-XXX): \")\n",
    "phone_num =  \"\"\"0976-148-653\n",
    "0988555-966\"\"\"\n",
    "m = re.findall(r'([0-9]{4}-?[0-9]{3}-?[0-9]{3})\\n?', phone_num)\n",
    "print(phone_num, m, \"end\", sep= \"\\n\")"
   ]
  },
  {
   "cell_type": "code",
   "execution_count": 22,
   "metadata": {},
   "outputs": [
    {
     "name": "stdout",
     "output_type": "stream",
     "text": [
      "Correct\n",
      "0976-999-955\n",
      "end\n",
      "Correct\n"
     ]
    }
   ],
   "source": [
    "phone_num = input(\"input CellPhone NO(XXXX-XXX-XXX): \")\n",
    "if len(phone_num) != 12:\n",
    "    print(\"input Error: Length Error\")\n",
    "elif (not phone_num[0:4].isnumeric()) or (not phone_num[5:8].isnumeric()) or (not phone_num[9:12].isdigit()):\n",
    "    print(\"input Error: Num Error\")\n",
    "elif phone_num[4] != '-' or phone_num[8] != '-':\n",
    "    print(\"input Error: Dash Error\")\n",
    "else:\n",
    "    print(\"Correct\")\n",
    "print(phone_num, \"end\", sep= \"\\n\")"
   ]
  },
  {
   "cell_type": "code",
   "execution_count": 23,
   "metadata": {},
   "outputs": [
    {
     "name": "stdout",
     "output_type": "stream",
     "text": [
      "error\n"
     ]
    }
   ],
   "source": [
    "def checkPhone(phone_num:str) -> bool:\n",
    "    Result = False;\n",
    "    if len(phone_num) != 12:\n",
    "        pass\n",
    "    elif (not phone_num[0:4].isnumeric()) or (not phone_num[5:8].isnumeric()) or (not phone_num[9:12].isdigit()):\n",
    "        pass\n",
    "    elif phone_num[4] != '-' or phone_num[8] != '-':\n",
    "        pass\n",
    "    else:\n",
    "        Result  = True\n",
    "    return Result\n",
    "\n",
    "phone_num = input(\"input CellPhone NO(XXXX-XXX-XXX): \")\n",
    "x = checkPhone(phone_num) \n",
    "if (x):\n",
    "    print(\"Correct\")\n",
    "else: \n",
    "    print(\"Error\")"
   ]
  },
  {
   "cell_type": "code",
   "execution_count": 46,
   "metadata": {},
   "outputs": [
    {
     "data": {
      "text/plain": [
       "True"
      ]
     },
     "execution_count": 46,
     "metadata": {},
     "output_type": "execute_result"
    }
   ],
   "source": [
    "import re\n",
    "\n",
    "Num = \"0976-888-888\"\n",
    "def isPhonNum(text:str) -> bool:\n",
    "    pattern = re.compile(\"\\d\\d\\d\\d-\\d\\d\\d-\\d\\d\\d\")\n",
    "    m = pattern.match(Num)\n",
    "    if(m is None):\n",
    "        return False\n",
    "    return True\n",
    "\n",
    "if isPhonNum(Num):\n",
    "    print(\"正確\")\n",
    "else:\n",
    "    print(\"錯誤\")\n",
    "\n"
   ]
  },
  {
   "cell_type": "code",
   "execution_count": 47,
   "metadata": {},
   "outputs": [
    {
     "name": "stdout",
     "output_type": "stream",
     "text": [
      "正確\n"
     ]
    }
   ],
   "source": [
    "import re\n",
    "\n",
    "Num = \"0976-888-888\"\n",
    "def isEmail(text:str) -> bool:\n",
    "    pattern = re.compile(r'[a-zA-Z0-9]+@[a-z]+\\.[a-z]{2,3}')\n",
    "    m = pattern.match(Num)\n",
    "    if(m is None):\n",
    "        return False\n",
    "    print(m)\n",
    "    return True\n",
    "\n",
    "if isPhonNum(Num):\n",
    "    print(\"正確\")\n",
    "else:\n",
    "    print(\"錯誤\")"
   ]
  }
 ],
 "metadata": {
  "kernelspec": {
   "display_name": "Python 3",
   "language": "python",
   "name": "python3"
  },
  "language_info": {
   "codemirror_mode": {
    "name": "ipython",
    "version": 3
   },
   "file_extension": ".py",
   "mimetype": "text/x-python",
   "name": "python",
   "nbconvert_exporter": "python",
   "pygments_lexer": "ipython3",
   "version": "3.10.12"
  },
  "orig_nbformat": 4
 },
 "nbformat": 4,
 "nbformat_minor": 2
}
