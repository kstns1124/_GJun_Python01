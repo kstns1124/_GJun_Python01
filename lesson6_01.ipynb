{
 "cells": [
  {
   "cell_type": "code",
   "execution_count": 3,
   "metadata": {},
   "outputs": [
    {
     "name": "stdout",
     "output_type": "stream",
     "text": [
      "Your BMI IS 20.28,  正常\n"
     ]
    }
   ],
   "source": [
    "import math\n",
    "while(True):\n",
    "  try:\n",
    "    H:float = max(0, float(input(\"請輸入身高，單位為公分:\")))\n",
    "  except:\n",
    "    print(\"請輸入浮點數!\")\n",
    "  else:\n",
    "    if(H == 0):\n",
    "        print(\"Error\")\n",
    "    else:\n",
    "        break\n",
    "\n",
    "while(True):\n",
    "  try:\n",
    "    W:float = max(0, float(input(\"請輸入體重，單位為公斤:\")))\n",
    "  except:\n",
    "    print(\"請輸入浮點數!\")\n",
    "  else:\n",
    "    if(W == 0):\n",
    "        print(\"Error\")\n",
    "    else:\n",
    "        break\n",
    "\n",
    "BMI = W / math.pow(H/100, 2)\n",
    "\n",
    "if (BMI < 18.5):\n",
    "  Msg = \"過輕\"\n",
    "elif(BMI < 24):\n",
    "  Msg = \"正常\"\n",
    "elif(BMI < 27):\n",
    "  Msg = \"過重\"\n",
    "elif(BMI < 30):\n",
    "  Msg = \"輕度肥胖\"\n",
    "elif(BMI < 35):\n",
    "  Msg = \"中度肥胖\"\n",
    "else:\n",
    "  Msg = \"重度肥胖\"\n",
    "print(f\"Your BMI IS {round(BMI, ndigits= 2)}, {Msg}\")"
   ]
  },
  {
   "cell_type": "code",
   "execution_count": 5,
   "metadata": {},
   "outputs": [
    {
     "name": "stdout",
     "output_type": "stream",
     "text": [
      "Your BMI IS 400.0, 重度肥胖\n"
     ]
    }
   ],
   "source": [
    "import math\n",
    "while(True):\n",
    "  try:\n",
    "    H:float = max(0, float(input(\"請輸入身高(cm):\")))\n",
    "  except:\n",
    "    print(\"請輸入浮點數!\")\n",
    "  else:\n",
    "    if(H == 0):\n",
    "        print(\"Error\")\n",
    "    else:\n",
    "        break\n",
    "\n",
    "while(True):\n",
    "  try:\n",
    "    W:float = max(0, float(input(\"請輸入體重(kg):\")))\n",
    "  except:\n",
    "    print(\"請輸入浮點數!\")\n",
    "  else:\n",
    "    if(W == 0):\n",
    "        print(\"Error\")\n",
    "    else:\n",
    "        break\n",
    "\n",
    "BMI = W / math.pow(H/100, 2)\n",
    "\n",
    "if (BMI < 18.5):\n",
    "  Msg = \"過輕\"\n",
    "elif(18.5 <= BMI < 24):\n",
    "  Msg = \"正常\"\n",
    "elif(24 <= BMI < 27):\n",
    "  Msg = \"過重\"\n",
    "elif(27 <= BMI < 30):\n",
    "  Msg = \"輕度肥胖\"\n",
    "elif(30 <= BMI < 35):\n",
    "  Msg = \"中度肥胖\"\n",
    "else:\n",
    "  Msg = \"重度肥胖\"\n",
    "print(f\"Your BMI IS {round(BMI, ndigits= 2)}, {Msg}\")"
   ]
  },
  {
   "cell_type": "code",
   "execution_count": 7,
   "metadata": {},
   "outputs": [
    {
     "name": "stdout",
     "output_type": "stream",
     "text": [
      "0\n",
      "1\n",
      "2\n",
      "3\n",
      "4\n",
      "2\n",
      "5\n",
      "8\n"
     ]
    }
   ],
   "source": [
    "for x in range(0, 5, 1):\n",
    "    print(x)\n",
    "for x in range(2, 10, 3):\n",
    "    print(x)"
   ]
  }
 ],
 "metadata": {
  "kernelspec": {
   "display_name": "Python 3",
   "language": "python",
   "name": "python3"
  },
  "language_info": {
   "codemirror_mode": {
    "name": "ipython",
    "version": 3
   },
   "file_extension": ".py",
   "mimetype": "text/x-python",
   "name": "python",
   "nbconvert_exporter": "python",
   "pygments_lexer": "ipython3",
   "version": "3.10.12"
  },
  "orig_nbformat": 4
 },
 "nbformat": 4,
 "nbformat_minor": 2
}
